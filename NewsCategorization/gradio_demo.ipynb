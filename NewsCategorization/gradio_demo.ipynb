{
  "nbformat": 4,
  "nbformat_minor": 0,
  "metadata": {
    "colab": {
      "name": "gradio_demo.ipynb",
      "provenance": []
    },
    "kernelspec": {
      "name": "python3",
      "display_name": "Python 3"
    },
    "language_info": {
      "name": "python"
    }
  },
  "cells": [
    {
      "cell_type": "code",
      "execution_count": 1,
      "metadata": {
        "id": "EankUuM9dp6c"
      },
      "outputs": [],
      "source": [
        "!pip install -qq gradio\n",
        "!pip install -qq transformers"
      ]
    },
    {
      "cell_type": "code",
      "source": [
        "from transformers import pipeline\n",
        "import gradio as gr"
      ],
      "metadata": {
        "id": "cNjjOiVYyQaR"
      },
      "execution_count": 2,
      "outputs": []
    },
    {
      "cell_type": "code",
      "source": [
        "model_id = 'okite97/distilbert-base-uncased-najianews'\n",
        "pipe = pipeline('text-classification',model=model_id)"
      ],
      "metadata": {
        "id": "YAHvZxrZg4ZX"
      },
      "execution_count": 3,
      "outputs": []
    },
    {
      "cell_type": "code",
      "source": [
        "def predict_news(title, description):\n",
        "  news = title + '. ' + description\n",
        "  outputs = pipe(news, top_k=6)\n",
        "  labels = {}\n",
        "  for val in outputs:\n",
        "    labels[val['label']] = val['score']\n",
        "  return labels"
      ],
      "metadata": {
        "id": "fxNe6Suef9Y2"
      },
      "execution_count": 4,
      "outputs": []
    },
    {
      "cell_type": "code",
      "source": [
        "sample_title1 = 'Uefa Opens Proceedings against Barcelona, Juventus and Real Madrid Over European Super League Plan'\n",
        "sample_desc1 = 'Uefa has opened disciplinary proceedings against Barcelona, Juventus and Real Madrid over their involvement in the proposed European Super League.'\n",
        "sample_title2 = 'Nigeria’s Parliament Passes Amended Electoral Bill'\n",
        "sample_desc2 = 'Nigeria\\'s Senate on Tuesday passed the harmonised Clause 84 of the 2010 Electoral Act (Amendment) Bill 2022, which allows political'\n",
        "predict_news(sample_title1, sample_desc1)"
      ],
      "metadata": {
        "colab": {
          "base_uri": "https://localhost:8080/"
        },
        "id": "1bHW5DCShMDs",
        "outputId": "278f12f7-f012-4b15-f924-adf7235b3fd3"
      },
      "execution_count": 5,
      "outputs": [
        {
          "output_type": "execute_result",
          "data": {
            "text/plain": [
              "{'sports': 0.9967244267463684,\n",
              " 'health': 0.001304802019149065,\n",
              " 'politics': 0.0007034175214357674,\n",
              " 'entertainment': 0.0005156080587767065,\n",
              " 'business': 0.0004516385088209063,\n",
              " 'tech': 0.0003001954755745828}"
            ]
          },
          "metadata": {},
          "execution_count": 5
        }
      ]
    },
    {
      "cell_type": "code",
      "source": [
        "title = 'News Categorization'\n",
        "description = '''Given a news title and an excerpt from the news article, can we place the news in its proper category?'''\n",
        "article = \"To learn more, check out [Github repo](https://github.com/chimaobi-okite/NLP-Projects-Competitions/tree/main/NewsCategorization) that this demo is based off of.\"\n",
        "examples = [[sample_title1, sample_desc1], [sample_title2, sample_desc2]]"
      ],
      "metadata": {
        "id": "gB07BhvPt9xu"
      },
      "execution_count": 6,
      "outputs": []
    },
    {
      "cell_type": "code",
      "source": [
        "textbox1  = gr.Textbox(label=\"News Title\" , lines=1)\n",
        "textbox2  = gr.Textbox(label=\"Excerpt\", lines=2)\n",
        "label = gr.Label()\n",
        "demo = gr.Interface(fn=predict_news, inputs = [textbox1, textbox2], \n",
        "                     outputs = label,\n",
        "                    title=title,\n",
        "                    description=description,\n",
        "                    article = article, examples = examples)"
      ],
      "metadata": {
        "id": "Uq9D_eo4h4JG"
      },
      "execution_count": 7,
      "outputs": []
    },
    {
      "cell_type": "code",
      "source": [
        "demo.launch()"
      ],
      "metadata": {
        "colab": {
          "base_uri": "https://localhost:8080/",
          "height": 643
        },
        "id": "1tfZh9EXigHI",
        "outputId": "9ac38acb-d331-4f33-f8bb-8f5142bee121"
      },
      "execution_count": 8,
      "outputs": [
        {
          "output_type": "stream",
          "name": "stdout",
          "text": [
            "Colab notebook detected. To show errors in colab notebook, set `debug=True` in `launch()`\n",
            "Running on public URL: https://10442.gradio.app\n",
            "\n",
            "This share link expires in 72 hours. For free permanent hosting, check out Spaces: https://huggingface.co/spaces\n"
          ]
        },
        {
          "output_type": "display_data",
          "data": {
            "text/plain": [
              "<IPython.core.display.HTML object>"
            ],
            "text/html": [
              "<div><iframe src=\"https://10442.gradio.app\" width=\"900\" height=\"500\" allow=\"autoplay; camera; microphone;\" frameborder=\"0\" allowfullscreen></iframe></div>"
            ]
          },
          "metadata": {}
        },
        {
          "output_type": "execute_result",
          "data": {
            "text/plain": [
              "(<gradio.routes.App at 0x7f3cfd844690>,\n",
              " 'http://127.0.0.1:7860/',\n",
              " 'https://10442.gradio.app')"
            ]
          },
          "metadata": {},
          "execution_count": 8
        }
      ]
    }
  ]
}