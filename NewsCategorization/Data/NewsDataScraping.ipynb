{
  "cells": [
    {
      "cell_type": "markdown",
      "source": [
        "## Data Extraction For News Classification\n",
        "\n",
        "The data for this task was gotten from [arisetv](https://www.arise.tv/), where news are grouped into different categories. The goal here to extract the news title and excerpt from news articles for different categories"
      ],
      "metadata": {
        "id": "iBmoi4MHsMP3"
      }
    },
    {
      "cell_type": "code",
      "execution_count": 1,
      "metadata": {
        "id": "vWxVUPC3VOtn"
      },
      "outputs": [],
      "source": [
        "# import the required dependencies\n",
        "import requests\n",
        "from bs4 import BeautifulSoup\n",
        "import pandas as pd\n",
        "import urllib.request,sys,time"
      ]
    },
    {
      "cell_type": "code",
      "execution_count": 2,
      "metadata": {
        "colab": {
          "base_uri": "https://localhost:8080/"
        },
        "id": "P_uD4ycBzIA6",
        "outputId": "e347208c-de4b-416e-9b1f-d332f7b357a1"
      },
      "outputs": [
        {
          "output_type": "stream",
          "name": "stdout",
          "text": [
            "health 50\n",
            "health 100\n",
            "health 150\n",
            "business 50\n",
            "business 100\n",
            "business 150\n",
            "politics 50\n",
            "politics 100\n",
            "politics 150\n",
            "ERROR FOR LINK: https://www.arise.tv/entertainment/page/34/\n",
            "<class 'requests.exceptions.ConnectionError'> Line: 12\n",
            "entertainment 50\n",
            "entertainment 100\n",
            "entertainment 150\n",
            "ERROR FOR LINK: https://www.arise.tv/entertainment/page/166/\n",
            "<class 'requests.exceptions.ConnectionError'> Line: 12\n",
            "sports 50\n",
            "sports 100\n",
            "sports 150\n",
            "tech 50\n",
            "tech 100\n",
            "tech 150\n",
            "CPU times: user 1min 44s, sys: 4.73 s, total: 1min 48s\n",
            "Wall time: 1h 42min 10s\n"
          ]
        }
      ],
      "source": [
        "%%time\n",
        "columns = ['Title', 'Excerpt', 'Category'] \n",
        "df = pd.DataFrame(columns = columns)  # initialize an empty dataframe with column names\n",
        "base_url = 'https://www.arise.tv/'\n",
        "\n",
        "categories =  ['health','business', 'politics', 'entertainment', 'sports', 'tech']  # news categories we are interested in\n",
        "\n",
        "'''Search through each news based category in arisetv website and for each news article, extract the title and excerpt and append it to the dataframe'''\n",
        "for cat in categories:\n",
        "  for page_number in range(1, 170):\n",
        "    url = base_url + cat + '/'  if page_number == 1 else base_url + cat + '/' + 'page/'+str(page_number) + '/'\n",
        "    try:\n",
        "      page=requests.get(url) \n",
        "    except Exception as e:    \n",
        "      error_type, error_obj, error_info = sys.exc_info()      \n",
        "      print ('ERROR FOR LINK:',url)               \n",
        "      print (error_type, 'Line:', error_info.tb_lineno)\n",
        "      continue\n",
        "    if page.status_code == 200:\n",
        "      soup = BeautifulSoup(page.text, \"html.parser\")\n",
        "      articles = soup.find_all('article',attrs={'class':'jeg_post jeg_pl_lg_2 format-standard'})\n",
        "      for article in articles:\n",
        "        title = article.find('h3',attrs={'class':'jeg_post_title'}).get_text()\n",
        "        excerpt = article.find('div',attrs={'class':'jeg_post_excerpt'}).get_text()\n",
        "        df = df.append({'Title' : title, 'Excerpt' : excerpt, 'Category' : cat},\n",
        "                ignore_index = True)\n",
        "\n",
        "    # check progress \n",
        "    if page_number % 50 == 0:\n",
        "        print(cat, page_number)"
      ]
    },
    {
      "cell_type": "code",
      "execution_count": 3,
      "metadata": {
        "colab": {
          "base_uri": "https://localhost:8080/",
          "height": 206
        },
        "id": "3vY-DynfYM52",
        "outputId": "d1469b92-b509-414a-84e5-6ad121d292f5"
      },
      "outputs": [
        {
          "output_type": "execute_result",
          "data": {
            "text/plain": [
              "                                               Title  \\\n",
              "0  \\nWHO Reports First Two Cases of Marburg Virus...   \n",
              "1  \\nNigeria: Six Confirmed Cases of Monkeypox in...   \n",
              "2  \\nNigeria Backs Global Efforts Against Marine ...   \n",
              "3  \\nReconstruct  Nigerian Drainages with Proper ...   \n",
              "4  \\nNigeria: Kwara Records First Confirmed Case ...   \n",
              "\n",
              "                                             Excerpt Category  \n",
              "0  \\nThe WHO has reported two suspected cases of ...   health  \n",
              "1  \\nNasarawa State in Nigeria's North-Central ha...   health  \n",
              "2  \\nPresident Muhammadu Buhari has pledged Niger...   health  \n",
              "3  \\nA pest control specialist and malaria advoca...   health  \n",
              "4  \\nThe Kwara State Government in Nigeria's Nort...   health  "
            ],
            "text/html": [
              "\n",
              "  <div id=\"df-669f0024-cd84-4a96-ab1f-38ffc8878fb3\">\n",
              "    <div class=\"colab-df-container\">\n",
              "      <div>\n",
              "<style scoped>\n",
              "    .dataframe tbody tr th:only-of-type {\n",
              "        vertical-align: middle;\n",
              "    }\n",
              "\n",
              "    .dataframe tbody tr th {\n",
              "        vertical-align: top;\n",
              "    }\n",
              "\n",
              "    .dataframe thead th {\n",
              "        text-align: right;\n",
              "    }\n",
              "</style>\n",
              "<table border=\"1\" class=\"dataframe\">\n",
              "  <thead>\n",
              "    <tr style=\"text-align: right;\">\n",
              "      <th></th>\n",
              "      <th>Title</th>\n",
              "      <th>Excerpt</th>\n",
              "      <th>Category</th>\n",
              "    </tr>\n",
              "  </thead>\n",
              "  <tbody>\n",
              "    <tr>\n",
              "      <th>0</th>\n",
              "      <td>\\nWHO Reports First Two Cases of Marburg Virus...</td>\n",
              "      <td>\\nThe WHO has reported two suspected cases of ...</td>\n",
              "      <td>health</td>\n",
              "    </tr>\n",
              "    <tr>\n",
              "      <th>1</th>\n",
              "      <td>\\nNigeria: Six Confirmed Cases of Monkeypox in...</td>\n",
              "      <td>\\nNasarawa State in Nigeria's North-Central ha...</td>\n",
              "      <td>health</td>\n",
              "    </tr>\n",
              "    <tr>\n",
              "      <th>2</th>\n",
              "      <td>\\nNigeria Backs Global Efforts Against Marine ...</td>\n",
              "      <td>\\nPresident Muhammadu Buhari has pledged Niger...</td>\n",
              "      <td>health</td>\n",
              "    </tr>\n",
              "    <tr>\n",
              "      <th>3</th>\n",
              "      <td>\\nReconstruct  Nigerian Drainages with Proper ...</td>\n",
              "      <td>\\nA pest control specialist and malaria advoca...</td>\n",
              "      <td>health</td>\n",
              "    </tr>\n",
              "    <tr>\n",
              "      <th>4</th>\n",
              "      <td>\\nNigeria: Kwara Records First Confirmed Case ...</td>\n",
              "      <td>\\nThe Kwara State Government in Nigeria's Nort...</td>\n",
              "      <td>health</td>\n",
              "    </tr>\n",
              "  </tbody>\n",
              "</table>\n",
              "</div>\n",
              "      <button class=\"colab-df-convert\" onclick=\"convertToInteractive('df-669f0024-cd84-4a96-ab1f-38ffc8878fb3')\"\n",
              "              title=\"Convert this dataframe to an interactive table.\"\n",
              "              style=\"display:none;\">\n",
              "        \n",
              "  <svg xmlns=\"http://www.w3.org/2000/svg\" height=\"24px\"viewBox=\"0 0 24 24\"\n",
              "       width=\"24px\">\n",
              "    <path d=\"M0 0h24v24H0V0z\" fill=\"none\"/>\n",
              "    <path d=\"M18.56 5.44l.94 2.06.94-2.06 2.06-.94-2.06-.94-.94-2.06-.94 2.06-2.06.94zm-11 1L8.5 8.5l.94-2.06 2.06-.94-2.06-.94L8.5 2.5l-.94 2.06-2.06.94zm10 10l.94 2.06.94-2.06 2.06-.94-2.06-.94-.94-2.06-.94 2.06-2.06.94z\"/><path d=\"M17.41 7.96l-1.37-1.37c-.4-.4-.92-.59-1.43-.59-.52 0-1.04.2-1.43.59L10.3 9.45l-7.72 7.72c-.78.78-.78 2.05 0 2.83L4 21.41c.39.39.9.59 1.41.59.51 0 1.02-.2 1.41-.59l7.78-7.78 2.81-2.81c.8-.78.8-2.07 0-2.86zM5.41 20L4 18.59l7.72-7.72 1.47 1.35L5.41 20z\"/>\n",
              "  </svg>\n",
              "      </button>\n",
              "      \n",
              "  <style>\n",
              "    .colab-df-container {\n",
              "      display:flex;\n",
              "      flex-wrap:wrap;\n",
              "      gap: 12px;\n",
              "    }\n",
              "\n",
              "    .colab-df-convert {\n",
              "      background-color: #E8F0FE;\n",
              "      border: none;\n",
              "      border-radius: 50%;\n",
              "      cursor: pointer;\n",
              "      display: none;\n",
              "      fill: #1967D2;\n",
              "      height: 32px;\n",
              "      padding: 0 0 0 0;\n",
              "      width: 32px;\n",
              "    }\n",
              "\n",
              "    .colab-df-convert:hover {\n",
              "      background-color: #E2EBFA;\n",
              "      box-shadow: 0px 1px 2px rgba(60, 64, 67, 0.3), 0px 1px 3px 1px rgba(60, 64, 67, 0.15);\n",
              "      fill: #174EA6;\n",
              "    }\n",
              "\n",
              "    [theme=dark] .colab-df-convert {\n",
              "      background-color: #3B4455;\n",
              "      fill: #D2E3FC;\n",
              "    }\n",
              "\n",
              "    [theme=dark] .colab-df-convert:hover {\n",
              "      background-color: #434B5C;\n",
              "      box-shadow: 0px 1px 3px 1px rgba(0, 0, 0, 0.15);\n",
              "      filter: drop-shadow(0px 1px 2px rgba(0, 0, 0, 0.3));\n",
              "      fill: #FFFFFF;\n",
              "    }\n",
              "  </style>\n",
              "\n",
              "      <script>\n",
              "        const buttonEl =\n",
              "          document.querySelector('#df-669f0024-cd84-4a96-ab1f-38ffc8878fb3 button.colab-df-convert');\n",
              "        buttonEl.style.display =\n",
              "          google.colab.kernel.accessAllowed ? 'block' : 'none';\n",
              "\n",
              "        async function convertToInteractive(key) {\n",
              "          const element = document.querySelector('#df-669f0024-cd84-4a96-ab1f-38ffc8878fb3');\n",
              "          const dataTable =\n",
              "            await google.colab.kernel.invokeFunction('convertToInteractive',\n",
              "                                                     [key], {});\n",
              "          if (!dataTable) return;\n",
              "\n",
              "          const docLinkHtml = 'Like what you see? Visit the ' +\n",
              "            '<a target=\"_blank\" href=https://colab.research.google.com/notebooks/data_table.ipynb>data table notebook</a>'\n",
              "            + ' to learn more about interactive tables.';\n",
              "          element.innerHTML = '';\n",
              "          dataTable['output_type'] = 'display_data';\n",
              "          await google.colab.output.renderOutput(dataTable, element);\n",
              "          const docLink = document.createElement('div');\n",
              "          docLink.innerHTML = docLinkHtml;\n",
              "          element.appendChild(docLink);\n",
              "        }\n",
              "      </script>\n",
              "    </div>\n",
              "  </div>\n",
              "  "
            ]
          },
          "metadata": {},
          "execution_count": 3
        }
      ],
      "source": [
        "df.head()"
      ]
    },
    {
      "cell_type": "markdown",
      "source": [
        "### Data Cleaning.\n",
        "\n",
        "Now lets clean the data a little bit by removing '/n' and '... Read more'"
      ],
      "metadata": {
        "id": "sMRNWRLOuVRl"
      }
    },
    {
      "cell_type": "code",
      "execution_count": 4,
      "metadata": {
        "colab": {
          "base_uri": "https://localhost:8080/",
          "height": 112
        },
        "id": "Ioo2aZp8c9J9",
        "outputId": "384356a8-ec86-4b52-910c-ddd9c68f6b5b"
      },
      "outputs": [
        {
          "output_type": "execute_result",
          "data": {
            "text/plain": [
              "                                               Title  \\\n",
              "0  \\nWHO Reports First Two Cases of Marburg Virus...   \n",
              "1  \\nNigeria: Six Confirmed Cases of Monkeypox in...   \n",
              "\n",
              "                                             Excerpt Category  \n",
              "0  \\nThe WHO has reported two suspected cases of ...   health  \n",
              "1  \\nNasarawa State in Nigeria's North-Central ha...   health  "
            ],
            "text/html": [
              "\n",
              "  <div id=\"df-5bfea1dc-4674-4bfa-8b43-7d1f6fd02b47\">\n",
              "    <div class=\"colab-df-container\">\n",
              "      <div>\n",
              "<style scoped>\n",
              "    .dataframe tbody tr th:only-of-type {\n",
              "        vertical-align: middle;\n",
              "    }\n",
              "\n",
              "    .dataframe tbody tr th {\n",
              "        vertical-align: top;\n",
              "    }\n",
              "\n",
              "    .dataframe thead th {\n",
              "        text-align: right;\n",
              "    }\n",
              "</style>\n",
              "<table border=\"1\" class=\"dataframe\">\n",
              "  <thead>\n",
              "    <tr style=\"text-align: right;\">\n",
              "      <th></th>\n",
              "      <th>Title</th>\n",
              "      <th>Excerpt</th>\n",
              "      <th>Category</th>\n",
              "    </tr>\n",
              "  </thead>\n",
              "  <tbody>\n",
              "    <tr>\n",
              "      <th>0</th>\n",
              "      <td>\\nWHO Reports First Two Cases of Marburg Virus...</td>\n",
              "      <td>\\nThe WHO has reported two suspected cases of ...</td>\n",
              "      <td>health</td>\n",
              "    </tr>\n",
              "    <tr>\n",
              "      <th>1</th>\n",
              "      <td>\\nNigeria: Six Confirmed Cases of Monkeypox in...</td>\n",
              "      <td>\\nNasarawa State in Nigeria's North-Central ha...</td>\n",
              "      <td>health</td>\n",
              "    </tr>\n",
              "  </tbody>\n",
              "</table>\n",
              "</div>\n",
              "      <button class=\"colab-df-convert\" onclick=\"convertToInteractive('df-5bfea1dc-4674-4bfa-8b43-7d1f6fd02b47')\"\n",
              "              title=\"Convert this dataframe to an interactive table.\"\n",
              "              style=\"display:none;\">\n",
              "        \n",
              "  <svg xmlns=\"http://www.w3.org/2000/svg\" height=\"24px\"viewBox=\"0 0 24 24\"\n",
              "       width=\"24px\">\n",
              "    <path d=\"M0 0h24v24H0V0z\" fill=\"none\"/>\n",
              "    <path d=\"M18.56 5.44l.94 2.06.94-2.06 2.06-.94-2.06-.94-.94-2.06-.94 2.06-2.06.94zm-11 1L8.5 8.5l.94-2.06 2.06-.94-2.06-.94L8.5 2.5l-.94 2.06-2.06.94zm10 10l.94 2.06.94-2.06 2.06-.94-2.06-.94-.94-2.06-.94 2.06-2.06.94z\"/><path d=\"M17.41 7.96l-1.37-1.37c-.4-.4-.92-.59-1.43-.59-.52 0-1.04.2-1.43.59L10.3 9.45l-7.72 7.72c-.78.78-.78 2.05 0 2.83L4 21.41c.39.39.9.59 1.41.59.51 0 1.02-.2 1.41-.59l7.78-7.78 2.81-2.81c.8-.78.8-2.07 0-2.86zM5.41 20L4 18.59l7.72-7.72 1.47 1.35L5.41 20z\"/>\n",
              "  </svg>\n",
              "      </button>\n",
              "      \n",
              "  <style>\n",
              "    .colab-df-container {\n",
              "      display:flex;\n",
              "      flex-wrap:wrap;\n",
              "      gap: 12px;\n",
              "    }\n",
              "\n",
              "    .colab-df-convert {\n",
              "      background-color: #E8F0FE;\n",
              "      border: none;\n",
              "      border-radius: 50%;\n",
              "      cursor: pointer;\n",
              "      display: none;\n",
              "      fill: #1967D2;\n",
              "      height: 32px;\n",
              "      padding: 0 0 0 0;\n",
              "      width: 32px;\n",
              "    }\n",
              "\n",
              "    .colab-df-convert:hover {\n",
              "      background-color: #E2EBFA;\n",
              "      box-shadow: 0px 1px 2px rgba(60, 64, 67, 0.3), 0px 1px 3px 1px rgba(60, 64, 67, 0.15);\n",
              "      fill: #174EA6;\n",
              "    }\n",
              "\n",
              "    [theme=dark] .colab-df-convert {\n",
              "      background-color: #3B4455;\n",
              "      fill: #D2E3FC;\n",
              "    }\n",
              "\n",
              "    [theme=dark] .colab-df-convert:hover {\n",
              "      background-color: #434B5C;\n",
              "      box-shadow: 0px 1px 3px 1px rgba(0, 0, 0, 0.15);\n",
              "      filter: drop-shadow(0px 1px 2px rgba(0, 0, 0, 0.3));\n",
              "      fill: #FFFFFF;\n",
              "    }\n",
              "  </style>\n",
              "\n",
              "      <script>\n",
              "        const buttonEl =\n",
              "          document.querySelector('#df-5bfea1dc-4674-4bfa-8b43-7d1f6fd02b47 button.colab-df-convert');\n",
              "        buttonEl.style.display =\n",
              "          google.colab.kernel.accessAllowed ? 'block' : 'none';\n",
              "\n",
              "        async function convertToInteractive(key) {\n",
              "          const element = document.querySelector('#df-5bfea1dc-4674-4bfa-8b43-7d1f6fd02b47');\n",
              "          const dataTable =\n",
              "            await google.colab.kernel.invokeFunction('convertToInteractive',\n",
              "                                                     [key], {});\n",
              "          if (!dataTable) return;\n",
              "\n",
              "          const docLinkHtml = 'Like what you see? Visit the ' +\n",
              "            '<a target=\"_blank\" href=https://colab.research.google.com/notebooks/data_table.ipynb>data table notebook</a>'\n",
              "            + ' to learn more about interactive tables.';\n",
              "          element.innerHTML = '';\n",
              "          dataTable['output_type'] = 'display_data';\n",
              "          await google.colab.output.renderOutput(dataTable, element);\n",
              "          const docLink = document.createElement('div');\n",
              "          docLink.innerHTML = docLinkHtml;\n",
              "          element.appendChild(docLink);\n",
              "        }\n",
              "      </script>\n",
              "    </div>\n",
              "  </div>\n",
              "  "
            ]
          },
          "metadata": {},
          "execution_count": 4
        }
      ],
      "source": [
        "df.head(2)"
      ]
    },
    {
      "cell_type": "code",
      "execution_count": 5,
      "metadata": {
        "id": "3DpE_Y1e9Spo"
      },
      "outputs": [],
      "source": [
        "def clean_text(text):\n",
        "\n",
        "  '''\n",
        "      function takes in a text and returns a clean version with both new line characters and readmore prompt removed\n",
        "\n",
        "      input: str\n",
        "      return : str\n",
        "  '''\n",
        "  text = text.replace('...\\nRead more\\n', '', -1)\n",
        "  text = text.replace('\\n', '')\n",
        "  text = text.strip()\n",
        "  return text"
      ]
    },
    {
      "cell_type": "code",
      "source": [
        "data = df.copy()  # create a copy of the data\n",
        "# clean data\n",
        "data['Title'] = data['Title'].map(lambda x : clean_text(x))\n",
        "data['Excerpt'] = data['Excerpt'].map(lambda x : clean_text(x)) "
      ],
      "metadata": {
        "id": "GCoMeQHwvWQ-"
      },
      "execution_count": 17,
      "outputs": []
    },
    {
      "cell_type": "code",
      "source": [
        "data.head()"
      ],
      "metadata": {
        "colab": {
          "base_uri": "https://localhost:8080/",
          "height": 206
        },
        "id": "f7fCOh9LvX2A",
        "outputId": "bbea1952-d2fa-497f-f366-08f2cbd6d8af"
      },
      "execution_count": 18,
      "outputs": [
        {
          "output_type": "execute_result",
          "data": {
            "text/plain": [
              "                                               Title  \\\n",
              "0  WHO Reports First Two Cases of Marburg Virus D...   \n",
              "1  Nigeria: Six Confirmed Cases of Monkeypox in N...   \n",
              "2  Nigeria Backs Global Efforts Against Marine Pl...   \n",
              "3  Reconstruct  Nigerian Drainages with Proper Se...   \n",
              "4  Nigeria: Kwara Records First Confirmed Case of...   \n",
              "\n",
              "                                             Excerpt Category  \n",
              "0  The WHO has reported two suspected cases of Ma...   health  \n",
              "1  Nasarawa State in Nigeria's North-Central has ...   health  \n",
              "2  President Muhammadu Buhari has pledged Nigeria...   health  \n",
              "3  A pest control specialist and malaria advocate...   health  \n",
              "4  The Kwara State Government in Nigeria's North-...   health  "
            ],
            "text/html": [
              "\n",
              "  <div id=\"df-e0350cf2-0a76-4741-9d95-0afa78397d5b\">\n",
              "    <div class=\"colab-df-container\">\n",
              "      <div>\n",
              "<style scoped>\n",
              "    .dataframe tbody tr th:only-of-type {\n",
              "        vertical-align: middle;\n",
              "    }\n",
              "\n",
              "    .dataframe tbody tr th {\n",
              "        vertical-align: top;\n",
              "    }\n",
              "\n",
              "    .dataframe thead th {\n",
              "        text-align: right;\n",
              "    }\n",
              "</style>\n",
              "<table border=\"1\" class=\"dataframe\">\n",
              "  <thead>\n",
              "    <tr style=\"text-align: right;\">\n",
              "      <th></th>\n",
              "      <th>Title</th>\n",
              "      <th>Excerpt</th>\n",
              "      <th>Category</th>\n",
              "    </tr>\n",
              "  </thead>\n",
              "  <tbody>\n",
              "    <tr>\n",
              "      <th>0</th>\n",
              "      <td>WHO Reports First Two Cases of Marburg Virus D...</td>\n",
              "      <td>The WHO has reported two suspected cases of Ma...</td>\n",
              "      <td>health</td>\n",
              "    </tr>\n",
              "    <tr>\n",
              "      <th>1</th>\n",
              "      <td>Nigeria: Six Confirmed Cases of Monkeypox in N...</td>\n",
              "      <td>Nasarawa State in Nigeria's North-Central has ...</td>\n",
              "      <td>health</td>\n",
              "    </tr>\n",
              "    <tr>\n",
              "      <th>2</th>\n",
              "      <td>Nigeria Backs Global Efforts Against Marine Pl...</td>\n",
              "      <td>President Muhammadu Buhari has pledged Nigeria...</td>\n",
              "      <td>health</td>\n",
              "    </tr>\n",
              "    <tr>\n",
              "      <th>3</th>\n",
              "      <td>Reconstruct  Nigerian Drainages with Proper Se...</td>\n",
              "      <td>A pest control specialist and malaria advocate...</td>\n",
              "      <td>health</td>\n",
              "    </tr>\n",
              "    <tr>\n",
              "      <th>4</th>\n",
              "      <td>Nigeria: Kwara Records First Confirmed Case of...</td>\n",
              "      <td>The Kwara State Government in Nigeria's North-...</td>\n",
              "      <td>health</td>\n",
              "    </tr>\n",
              "  </tbody>\n",
              "</table>\n",
              "</div>\n",
              "      <button class=\"colab-df-convert\" onclick=\"convertToInteractive('df-e0350cf2-0a76-4741-9d95-0afa78397d5b')\"\n",
              "              title=\"Convert this dataframe to an interactive table.\"\n",
              "              style=\"display:none;\">\n",
              "        \n",
              "  <svg xmlns=\"http://www.w3.org/2000/svg\" height=\"24px\"viewBox=\"0 0 24 24\"\n",
              "       width=\"24px\">\n",
              "    <path d=\"M0 0h24v24H0V0z\" fill=\"none\"/>\n",
              "    <path d=\"M18.56 5.44l.94 2.06.94-2.06 2.06-.94-2.06-.94-.94-2.06-.94 2.06-2.06.94zm-11 1L8.5 8.5l.94-2.06 2.06-.94-2.06-.94L8.5 2.5l-.94 2.06-2.06.94zm10 10l.94 2.06.94-2.06 2.06-.94-2.06-.94-.94-2.06-.94 2.06-2.06.94z\"/><path d=\"M17.41 7.96l-1.37-1.37c-.4-.4-.92-.59-1.43-.59-.52 0-1.04.2-1.43.59L10.3 9.45l-7.72 7.72c-.78.78-.78 2.05 0 2.83L4 21.41c.39.39.9.59 1.41.59.51 0 1.02-.2 1.41-.59l7.78-7.78 2.81-2.81c.8-.78.8-2.07 0-2.86zM5.41 20L4 18.59l7.72-7.72 1.47 1.35L5.41 20z\"/>\n",
              "  </svg>\n",
              "      </button>\n",
              "      \n",
              "  <style>\n",
              "    .colab-df-container {\n",
              "      display:flex;\n",
              "      flex-wrap:wrap;\n",
              "      gap: 12px;\n",
              "    }\n",
              "\n",
              "    .colab-df-convert {\n",
              "      background-color: #E8F0FE;\n",
              "      border: none;\n",
              "      border-radius: 50%;\n",
              "      cursor: pointer;\n",
              "      display: none;\n",
              "      fill: #1967D2;\n",
              "      height: 32px;\n",
              "      padding: 0 0 0 0;\n",
              "      width: 32px;\n",
              "    }\n",
              "\n",
              "    .colab-df-convert:hover {\n",
              "      background-color: #E2EBFA;\n",
              "      box-shadow: 0px 1px 2px rgba(60, 64, 67, 0.3), 0px 1px 3px 1px rgba(60, 64, 67, 0.15);\n",
              "      fill: #174EA6;\n",
              "    }\n",
              "\n",
              "    [theme=dark] .colab-df-convert {\n",
              "      background-color: #3B4455;\n",
              "      fill: #D2E3FC;\n",
              "    }\n",
              "\n",
              "    [theme=dark] .colab-df-convert:hover {\n",
              "      background-color: #434B5C;\n",
              "      box-shadow: 0px 1px 3px 1px rgba(0, 0, 0, 0.15);\n",
              "      filter: drop-shadow(0px 1px 2px rgba(0, 0, 0, 0.3));\n",
              "      fill: #FFFFFF;\n",
              "    }\n",
              "  </style>\n",
              "\n",
              "      <script>\n",
              "        const buttonEl =\n",
              "          document.querySelector('#df-e0350cf2-0a76-4741-9d95-0afa78397d5b button.colab-df-convert');\n",
              "        buttonEl.style.display =\n",
              "          google.colab.kernel.accessAllowed ? 'block' : 'none';\n",
              "\n",
              "        async function convertToInteractive(key) {\n",
              "          const element = document.querySelector('#df-e0350cf2-0a76-4741-9d95-0afa78397d5b');\n",
              "          const dataTable =\n",
              "            await google.colab.kernel.invokeFunction('convertToInteractive',\n",
              "                                                     [key], {});\n",
              "          if (!dataTable) return;\n",
              "\n",
              "          const docLinkHtml = 'Like what you see? Visit the ' +\n",
              "            '<a target=\"_blank\" href=https://colab.research.google.com/notebooks/data_table.ipynb>data table notebook</a>'\n",
              "            + ' to learn more about interactive tables.';\n",
              "          element.innerHTML = '';\n",
              "          dataTable['output_type'] = 'display_data';\n",
              "          await google.colab.output.renderOutput(dataTable, element);\n",
              "          const docLink = document.createElement('div');\n",
              "          docLink.innerHTML = docLinkHtml;\n",
              "          element.appendChild(docLink);\n",
              "        }\n",
              "      </script>\n",
              "    </div>\n",
              "  </div>\n",
              "  "
            ]
          },
          "metadata": {},
          "execution_count": 18
        }
      ]
    },
    {
      "cell_type": "markdown",
      "source": [
        "### Prepare Data\n",
        "\n",
        "* Create new columns that maps categories to index\n",
        "* shuffle the data based on the category\n",
        "* split the data to train and test sets"
      ],
      "metadata": {
        "id": "n99FbvQ4z2eg"
      }
    },
    {
      "cell_type": "code",
      "source": [
        "str2int = {'health': 0,'business' : 1, 'politics': 2, 'entertainment': 3, 'sports' : 4, 'tech': 5}\n",
        "data['labels'] = data['Category'].map(str2int)"
      ],
      "metadata": {
        "id": "e_rOAf2nyEEQ"
      },
      "execution_count": 19,
      "outputs": []
    },
    {
      "cell_type": "code",
      "source": [
        "import numpy as np\n",
        "from sklearn.model_selection import train_test_split"
      ],
      "metadata": {
        "id": "xF58bjEH1jVJ"
      },
      "execution_count": 20,
      "outputs": []
    },
    {
      "cell_type": "code",
      "source": [
        "data = data.sample(frac = 1, random_state= 42)\n",
        "train, test = train_test_split(data, test_size = 0.15, shuffle = True, stratify= data['Category'], random_state = 42)\n",
        "train.reset_index()\n",
        "test.reset_index()\n",
        "train.head()"
      ],
      "metadata": {
        "colab": {
          "base_uri": "https://localhost:8080/",
          "height": 206
        },
        "id": "LPWTCZPww_ad",
        "outputId": "dfec504d-905a-428e-edba-e732c2166867"
      },
      "execution_count": 21,
      "outputs": [
        {
          "output_type": "execute_result",
          "data": {
            "text/plain": [
              "                                                  Title  \\\n",
              "4440  Man United Reach Europa League Semi-finals as ...   \n",
              "3896  Australian Open: Nadal Comeback Win Over Medve...   \n",
              "4384  Man Utd vs Liverpool Match Postponed After ant...   \n",
              "4252         Osaka, Nadal Both Withdraws From Wimbledon   \n",
              "2442  Nigeria: CSO Accuses Desperate Politicians of ...   \n",
              "\n",
              "                                                Excerpt  Category  labels  \n",
              "4440  Manchester United eased into the Europa League...    sports       4  \n",
              "3896  Rafael Nadal has won a record-breaking 21st gr...    sports       4  \n",
              "4384  Manchester United's clash with Liverpool on Su...    sports       4  \n",
              "4252  The 2021 Wimbledon Championships will be witho...    sports       4  \n",
              "2442  A civil society organisation, Save Nigeria Pro...  politics       2  "
            ],
            "text/html": [
              "\n",
              "  <div id=\"df-f9a848eb-636d-4fd5-9d9e-d190523ac1f2\">\n",
              "    <div class=\"colab-df-container\">\n",
              "      <div>\n",
              "<style scoped>\n",
              "    .dataframe tbody tr th:only-of-type {\n",
              "        vertical-align: middle;\n",
              "    }\n",
              "\n",
              "    .dataframe tbody tr th {\n",
              "        vertical-align: top;\n",
              "    }\n",
              "\n",
              "    .dataframe thead th {\n",
              "        text-align: right;\n",
              "    }\n",
              "</style>\n",
              "<table border=\"1\" class=\"dataframe\">\n",
              "  <thead>\n",
              "    <tr style=\"text-align: right;\">\n",
              "      <th></th>\n",
              "      <th>Title</th>\n",
              "      <th>Excerpt</th>\n",
              "      <th>Category</th>\n",
              "      <th>labels</th>\n",
              "    </tr>\n",
              "  </thead>\n",
              "  <tbody>\n",
              "    <tr>\n",
              "      <th>4440</th>\n",
              "      <td>Man United Reach Europa League Semi-finals as ...</td>\n",
              "      <td>Manchester United eased into the Europa League...</td>\n",
              "      <td>sports</td>\n",
              "      <td>4</td>\n",
              "    </tr>\n",
              "    <tr>\n",
              "      <th>3896</th>\n",
              "      <td>Australian Open: Nadal Comeback Win Over Medve...</td>\n",
              "      <td>Rafael Nadal has won a record-breaking 21st gr...</td>\n",
              "      <td>sports</td>\n",
              "      <td>4</td>\n",
              "    </tr>\n",
              "    <tr>\n",
              "      <th>4384</th>\n",
              "      <td>Man Utd vs Liverpool Match Postponed After ant...</td>\n",
              "      <td>Manchester United's clash with Liverpool on Su...</td>\n",
              "      <td>sports</td>\n",
              "      <td>4</td>\n",
              "    </tr>\n",
              "    <tr>\n",
              "      <th>4252</th>\n",
              "      <td>Osaka, Nadal Both Withdraws From Wimbledon</td>\n",
              "      <td>The 2021 Wimbledon Championships will be witho...</td>\n",
              "      <td>sports</td>\n",
              "      <td>4</td>\n",
              "    </tr>\n",
              "    <tr>\n",
              "      <th>2442</th>\n",
              "      <td>Nigeria: CSO Accuses Desperate Politicians of ...</td>\n",
              "      <td>A civil society organisation, Save Nigeria Pro...</td>\n",
              "      <td>politics</td>\n",
              "      <td>2</td>\n",
              "    </tr>\n",
              "  </tbody>\n",
              "</table>\n",
              "</div>\n",
              "      <button class=\"colab-df-convert\" onclick=\"convertToInteractive('df-f9a848eb-636d-4fd5-9d9e-d190523ac1f2')\"\n",
              "              title=\"Convert this dataframe to an interactive table.\"\n",
              "              style=\"display:none;\">\n",
              "        \n",
              "  <svg xmlns=\"http://www.w3.org/2000/svg\" height=\"24px\"viewBox=\"0 0 24 24\"\n",
              "       width=\"24px\">\n",
              "    <path d=\"M0 0h24v24H0V0z\" fill=\"none\"/>\n",
              "    <path d=\"M18.56 5.44l.94 2.06.94-2.06 2.06-.94-2.06-.94-.94-2.06-.94 2.06-2.06.94zm-11 1L8.5 8.5l.94-2.06 2.06-.94-2.06-.94L8.5 2.5l-.94 2.06-2.06.94zm10 10l.94 2.06.94-2.06 2.06-.94-2.06-.94-.94-2.06-.94 2.06-2.06.94z\"/><path d=\"M17.41 7.96l-1.37-1.37c-.4-.4-.92-.59-1.43-.59-.52 0-1.04.2-1.43.59L10.3 9.45l-7.72 7.72c-.78.78-.78 2.05 0 2.83L4 21.41c.39.39.9.59 1.41.59.51 0 1.02-.2 1.41-.59l7.78-7.78 2.81-2.81c.8-.78.8-2.07 0-2.86zM5.41 20L4 18.59l7.72-7.72 1.47 1.35L5.41 20z\"/>\n",
              "  </svg>\n",
              "      </button>\n",
              "      \n",
              "  <style>\n",
              "    .colab-df-container {\n",
              "      display:flex;\n",
              "      flex-wrap:wrap;\n",
              "      gap: 12px;\n",
              "    }\n",
              "\n",
              "    .colab-df-convert {\n",
              "      background-color: #E8F0FE;\n",
              "      border: none;\n",
              "      border-radius: 50%;\n",
              "      cursor: pointer;\n",
              "      display: none;\n",
              "      fill: #1967D2;\n",
              "      height: 32px;\n",
              "      padding: 0 0 0 0;\n",
              "      width: 32px;\n",
              "    }\n",
              "\n",
              "    .colab-df-convert:hover {\n",
              "      background-color: #E2EBFA;\n",
              "      box-shadow: 0px 1px 2px rgba(60, 64, 67, 0.3), 0px 1px 3px 1px rgba(60, 64, 67, 0.15);\n",
              "      fill: #174EA6;\n",
              "    }\n",
              "\n",
              "    [theme=dark] .colab-df-convert {\n",
              "      background-color: #3B4455;\n",
              "      fill: #D2E3FC;\n",
              "    }\n",
              "\n",
              "    [theme=dark] .colab-df-convert:hover {\n",
              "      background-color: #434B5C;\n",
              "      box-shadow: 0px 1px 3px 1px rgba(0, 0, 0, 0.15);\n",
              "      filter: drop-shadow(0px 1px 2px rgba(0, 0, 0, 0.3));\n",
              "      fill: #FFFFFF;\n",
              "    }\n",
              "  </style>\n",
              "\n",
              "      <script>\n",
              "        const buttonEl =\n",
              "          document.querySelector('#df-f9a848eb-636d-4fd5-9d9e-d190523ac1f2 button.colab-df-convert');\n",
              "        buttonEl.style.display =\n",
              "          google.colab.kernel.accessAllowed ? 'block' : 'none';\n",
              "\n",
              "        async function convertToInteractive(key) {\n",
              "          const element = document.querySelector('#df-f9a848eb-636d-4fd5-9d9e-d190523ac1f2');\n",
              "          const dataTable =\n",
              "            await google.colab.kernel.invokeFunction('convertToInteractive',\n",
              "                                                     [key], {});\n",
              "          if (!dataTable) return;\n",
              "\n",
              "          const docLinkHtml = 'Like what you see? Visit the ' +\n",
              "            '<a target=\"_blank\" href=https://colab.research.google.com/notebooks/data_table.ipynb>data table notebook</a>'\n",
              "            + ' to learn more about interactive tables.';\n",
              "          element.innerHTML = '';\n",
              "          dataTable['output_type'] = 'display_data';\n",
              "          await google.colab.output.renderOutput(dataTable, element);\n",
              "          const docLink = document.createElement('div');\n",
              "          docLink.innerHTML = docLinkHtml;\n",
              "          element.appendChild(docLink);\n",
              "        }\n",
              "      </script>\n",
              "    </div>\n",
              "  </div>\n",
              "  "
            ]
          },
          "metadata": {},
          "execution_count": 21
        }
      ]
    },
    {
      "cell_type": "code",
      "source": [
        "import matplotlib.pyplot as plt\n",
        "import seaborn as sns"
      ],
      "metadata": {
        "id": "dCmVrqOq2KZE"
      },
      "execution_count": 22,
      "outputs": []
    },
    {
      "cell_type": "markdown",
      "source": [
        "#### See distribution of target variable to verify our split"
      ],
      "metadata": {
        "id": "xMOo5AeX4U5m"
      }
    },
    {
      "cell_type": "code",
      "source": [
        "sns.countplot('Category', data = train)\n",
        "plt.title('Target Distribution In Train DataFrame')\n",
        "plt.show()"
      ],
      "metadata": {
        "colab": {
          "base_uri": "https://localhost:8080/",
          "height": 350
        },
        "id": "oXE1IGBY3Xma",
        "outputId": "cd9267e1-20fd-49d9-8a18-dde6695822ba"
      },
      "execution_count": 23,
      "outputs": [
        {
          "output_type": "stream",
          "name": "stderr",
          "text": [
            "/usr/local/lib/python3.7/dist-packages/seaborn/_decorators.py:43: FutureWarning: Pass the following variable as a keyword arg: x. From version 0.12, the only valid positional argument will be `data`, and passing other arguments without an explicit keyword will result in an error or misinterpretation.\n",
            "  FutureWarning\n"
          ]
        },
        {
          "output_type": "display_data",
          "data": {
            "text/plain": [
              "<Figure size 432x288 with 1 Axes>"
            ],
            "image/png": "[encoded data removed]"
          },
          "metadata": {
            "needs_background": "light"
          }
        }
      ]
    },
    {
      "cell_type": "code",
      "source": [
        "sns.countplot('Category', data = test)\n",
        "plt.title('Target Distribution In Test DataFrame')\n",
        "plt.show()"
      ],
      "metadata": {
        "colab": {
          "base_uri": "https://localhost:8080/",
          "height": 350
        },
        "id": "ZVuycutE3eWf",
        "outputId": "f33cc3ab-2feb-46d9-b3a3-813fec4fc640"
      },
      "execution_count": 24,
      "outputs": [
        {
          "output_type": "stream",
          "name": "stderr",
          "text": [
            "/usr/local/lib/python3.7/dist-packages/seaborn/_decorators.py:43: FutureWarning: Pass the following variable as a keyword arg: x. From version 0.12, the only valid positional argument will be `data`, and passing other arguments without an explicit keyword will result in an error or misinterpretation.\n",
            "  FutureWarning\n"
          ]
        },
        {
          "output_type": "display_data",
          "data": {
            "text/plain": [
              "<Figure size 432x288 with 1 Axes>"
            ],
            "image/png": "[encoded data removed]"
          },
          "metadata": {
            "needs_background": "light"
          }
        }
      ]
    },
    {
      "cell_type": "markdown",
      "source": [
        "### Saving files as csv"
      ],
      "metadata": {
        "id": "tE1mvXI64q4R"
      }
    },
    {
      "cell_type": "code",
      "source": [
        "train.to_csv('train.csv',index=False)\n",
        "test.to_csv('test.csv',index=False)"
      ],
      "metadata": {
        "id": "8p0I_MmY3jIk"
      },
      "execution_count": 25,
      "outputs": []
    },
    {
      "cell_type": "code",
      "source": [
        ""
      ],
      "metadata": {
        "id": "FXc8dswJH3s4"
      },
      "execution_count": 16,
      "outputs": []
    }
  ],
  "metadata": {
    "colab": {
      "collapsed_sections": [],
      "name": "NewsDataScraping.ipynb",
      "provenance": []
    },
    "kernelspec": {
      "display_name": "Python 3",
      "name": "python3"
    },
    "language_info": {
      "name": "python"
    }
  },
  "nbformat": 4,
  "nbformat_minor": 0
}